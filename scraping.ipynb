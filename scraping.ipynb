{
 "cells": [
  {
   "cell_type": "code",
   "execution_count": 1,
   "metadata": {},
   "outputs": [],
   "source": [
    "from splinter import Browser\n",
    "from bs4 import BeautifulSoup\n",
    "from webdriver_manager.chrome import ChromeDriverManager\n",
    "import pandas as pd\n",
    "import math  "
   ]
  },
  {
   "cell_type": "code",
   "execution_count": 2,
   "metadata": {},
   "outputs": [
    {
     "name": "stderr",
     "output_type": "stream",
     "text": [
      "\n",
      "\n",
      "====== WebDriver manager ======\n",
      "Current google-chrome version is 91.0.4472\n",
      "Get LATEST driver version for 91.0.4472\n",
      "Driver [C:\\Users\\John\\.wdm\\drivers\\chromedriver\\win32\\91.0.4472.19\\chromedriver.exe] found in cache\n"
     ]
    }
   ],
   "source": [
    "# Setup splinter\n",
    "executable_path = {'executable_path': ChromeDriverManager().install()}\n",
    "browser = Browser('chrome', **executable_path, headless=False)"
   ]
  },
  {
   "cell_type": "code",
   "execution_count": 27,
   "metadata": {},
   "outputs": [],
   "source": [
    "url = 'https://www.westsideauto.com.au/all-stock/list?q=condition:used'\n",
    "browser.visit(url)"
   ]
  },
  {
   "cell_type": "code",
   "execution_count": 4,
   "metadata": {},
   "outputs": [
    {
     "data": {
      "text/plain": [
       "'1,151'"
      ]
     },
     "execution_count": 4,
     "metadata": {},
     "output_type": "execute_result"
    }
   ],
   "source": [
    "html = browser.html\n",
    "soup = BeautifulSoup(html, 'html.parser')\n",
    "stock_list = soup.find_all('h1', class_='stocklist-title')\n",
    "# stock = stock_list.find('span').text\n",
    "stock = stock_list[0].text.split(' ')[0]\n",
    "stock"
   ]
  },
  {
   "cell_type": "code",
   "execution_count": 5,
   "metadata": {},
   "outputs": [
    {
     "data": {
      "text/plain": [
       "1151"
      ]
     },
     "execution_count": 5,
     "metadata": {},
     "output_type": "execute_result"
    }
   ],
   "source": [
    "int(stock.replace(',', ''))"
   ]
  },
  {
   "cell_type": "code",
   "execution_count": 6,
   "metadata": {},
   "outputs": [
    {
     "data": {
      "text/plain": [
       "64"
      ]
     },
     "execution_count": 6,
     "metadata": {},
     "output_type": "execute_result"
    }
   ],
   "source": [
    "pages = math.ceil(int(stock.replace(',', ''))/18)\n",
    "pages"
   ]
  },
  {
   "cell_type": "code",
   "execution_count": 7,
   "metadata": {},
   "outputs": [],
   "source": [
    "vehicle = []\n",
    "price = []\n",
    "weekly = []\n",
    "stock_no = []"
   ]
  },
  {
   "cell_type": "code",
   "execution_count": 8,
   "metadata": {},
   "outputs": [],
   "source": [
    "for x in range(1, 2):\n",
    "\n",
    "    cars = soup.find_all('div', class_='vehicle-item')\n",
    " \n",
    " \n",
    "    for i in range(0,len(cars)):\n",
    "        if i%2:\n",
    "            h3 = cars[i].find('h3').text\n",
    "            vehicle.append(h3)\n",
    "            h2 = cars[i].find('h2').text\n",
    "            price.append(h2)\n",
    "            span = cars[i].find('span', class_='price-per-week-figure').text\n",
    "            weekly.append(span)\n",
    "            span1 = cars[i].find('span', class_='stock-no').text.split(' ')[1]\n",
    "            stock_no.append(span1)\n",
    "            \n",
    "            \n",
    "    next_page_url = 'https://www.westsideauto.com.au/all-stock/list/page-'+str(x+1)+'?q=condition%3Aused'\n",
    "\n",
    "    browser.links.find_by_href(next_page_url).click()"
   ]
  },
  {
   "cell_type": "code",
   "execution_count": 9,
   "metadata": {},
   "outputs": [
    {
     "data": {
      "text/plain": [
       "['155601',\n",
       " '155602',\n",
       " '159551',\n",
       " '159272',\n",
       " '159571',\n",
       " '158585',\n",
       " '159540',\n",
       " '159379',\n",
       " '158349',\n",
       " '158414',\n",
       " '158871',\n",
       " '159374',\n",
       " '158259',\n",
       " '156623',\n",
       " '159041',\n",
       " '158222',\n",
       " '156668',\n",
       " '153646']"
      ]
     },
     "execution_count": 9,
     "metadata": {},
     "output_type": "execute_result"
    }
   ],
   "source": [
    "stock_no"
   ]
  },
  {
   "cell_type": "code",
   "execution_count": 10,
   "metadata": {},
   "outputs": [
    {
     "data": {
      "text/plain": [
       "['$113',\n",
       " '$94',\n",
       " '$97',\n",
       " '$97',\n",
       " '$172',\n",
       " '$143',\n",
       " '$168',\n",
       " '$280',\n",
       " '$184',\n",
       " '$264',\n",
       " '$172',\n",
       " '$113',\n",
       " '$173',\n",
       " '$234',\n",
       " '$218',\n",
       " '$280',\n",
       " '$197',\n",
       " '$255']"
      ]
     },
     "execution_count": 10,
     "metadata": {},
     "output_type": "execute_result"
    }
   ],
   "source": [
    "weekly"
   ]
  },
  {
   "cell_type": "code",
   "execution_count": 11,
   "metadata": {},
   "outputs": [
    {
     "data": {
      "text/plain": [
       "18"
      ]
     },
     "execution_count": 11,
     "metadata": {},
     "output_type": "execute_result"
    }
   ],
   "source": [
    "len (weekly)"
   ]
  },
  {
   "cell_type": "code",
   "execution_count": 12,
   "metadata": {},
   "outputs": [
    {
     "data": {
      "text/plain": [
       "['2016 Audi A3 8V MY17 1.6 TDI Sportback Hatchback',\n",
       " '2016 Audi A3 8V MY16 Sportback 1.6 TDI Attraction Hatchback',\n",
       " '2014 Audi A3 8V MY14 1.8 TFSI Ambition Sedan',\n",
       " '2015 Audi A3 8V MY15 Sportback 1.4 TFSI Attraction Hatchback',\n",
       " '2017 Audi A3 8V MY17 2.0 TFSI S Tronic Sport Cabriolet',\n",
       " '2016 Audi A4 F4 (B9) 2.0 TFSI S Tronic Sport Sedan',\n",
       " '2017 Audi A4 F4 MY17 (B9) 2.0 TFSI S Tronic Sport Sedan',\n",
       " '2018 Audi A5 F5 MY18 2.0 TFSI Quattro S Tronic Sprt Coupe',\n",
       " '2018 Audi Q2 GA MY18 1.4 TFSI Design Wagon',\n",
       " '2020 Audi Q3 F3 MY21 35 TFSI S Line Sportback',\n",
       " '2018 Audi Q3 8U MY18 1.4 TFSI (110kW) Wagon',\n",
       " '2013 Audi Q3 8U 2.0 TFSI Quattro (125kW) Wagon',\n",
       " '2016 Audi Q5 8R MY16 2.0 TDI Quattro Wagon',\n",
       " '2017 Audi Q5 FY MY18 2.0 TFSI Quattro Sport Wagon',\n",
       " '2017 Audi Q5 FY MY17 2.0 TDI Quattro Design Wagon',\n",
       " '2019 Audi Q5 FY MY19 40 TDI Quattro Sport Wagon',\n",
       " '2017 Audi Q5 FY MY17 2.0 TDI Quattro Design Wagon',\n",
       " '2016 Audi Q7 4M 3.0 TDI Quattro Wagon']"
      ]
     },
     "execution_count": 12,
     "metadata": {},
     "output_type": "execute_result"
    }
   ],
   "source": [
    "vehicle"
   ]
  },
  {
   "cell_type": "code",
   "execution_count": 13,
   "metadata": {},
   "outputs": [
    {
     "data": {
      "text/plain": [
       "18"
      ]
     },
     "execution_count": 13,
     "metadata": {},
     "output_type": "execute_result"
    }
   ],
   "source": [
    "len(vehicle)"
   ]
  },
  {
   "cell_type": "code",
   "execution_count": 14,
   "metadata": {},
   "outputs": [
    {
     "data": {
      "text/plain": [
       "['$25,988',\n",
       " '$21,388',\n",
       " '$21,990',\n",
       " '$21,988',\n",
       " '$39,988',\n",
       " '$32,989',\n",
       " '$38,985',\n",
       " '$65,981',\n",
       " '$42,900',\n",
       " '$61,988',\n",
       " '$39,988',\n",
       " '$25,995',\n",
       " '$40,385',\n",
       " '$54,988',\n",
       " '$50,988',\n",
       " '$65,996',\n",
       " '$45,977',\n",
       " '$59,984']"
      ]
     },
     "execution_count": 14,
     "metadata": {},
     "output_type": "execute_result"
    }
   ],
   "source": [
    "price"
   ]
  },
  {
   "cell_type": "code",
   "execution_count": 15,
   "metadata": {},
   "outputs": [
    {
     "data": {
      "text/plain": [
       "18"
      ]
     },
     "execution_count": 15,
     "metadata": {},
     "output_type": "execute_result"
    }
   ],
   "source": [
    "len(price)"
   ]
  },
  {
   "cell_type": "code",
   "execution_count": 16,
   "metadata": {},
   "outputs": [],
   "source": [
    "browser.quit()"
   ]
  },
  {
   "cell_type": "code",
   "execution_count": 17,
   "metadata": {},
   "outputs": [
    {
     "name": "stderr",
     "output_type": "stream",
     "text": [
      "\n",
      "\n",
      "====== WebDriver manager ======\n",
      "Current google-chrome version is 91.0.4472\n",
      "Get LATEST driver version for 91.0.4472\n",
      "Driver [C:\\Users\\John\\.wdm\\drivers\\chromedriver\\win32\\91.0.4472.19\\chromedriver.exe] found in cache\n"
     ]
    }
   ],
   "source": [
    "# Setup splinter\n",
    "executable_path = {'executable_path': ChromeDriverManager().install()}\n",
    "browser = Browser('chrome', **executable_path, headless=False)"
   ]
  },
  {
   "cell_type": "code",
   "execution_count": 18,
   "metadata": {},
   "outputs": [],
   "source": [
    "url_finder = 'https://www.finder.com.au/car-loans'\n",
    "browser.visit(url_finder)"
   ]
  },
  {
   "cell_type": "code",
   "execution_count": 19,
   "metadata": {},
   "outputs": [],
   "source": [
    "html = browser.html\n",
    "soup = BeautifulSoup(html, 'html.parser')"
   ]
  },
  {
   "cell_type": "code",
   "execution_count": 20,
   "metadata": {},
   "outputs": [],
   "source": [
    "institutions = soup.find_all('td',class_ =\"comparison-table__name\")"
   ]
  },
  {
   "cell_type": "code",
   "execution_count": 21,
   "metadata": {},
   "outputs": [],
   "source": [
    "finance_name =[]"
   ]
  },
  {
   "cell_type": "code",
   "execution_count": 22,
   "metadata": {},
   "outputs": [],
   "source": [
    "for ins in institutions:\n",
    "    a = ins.find('a').text\n",
    "    finance_name.append(a)"
   ]
  },
  {
   "cell_type": "code",
   "execution_count": 23,
   "metadata": {},
   "outputs": [
    {
     "data": {
      "text/plain": [
       "['Plenti Car Loan',\n",
       " 'Loans.com.au - New and Dealer Used Car Loan',\n",
       " 'Credit Concierge Car Loan',\n",
       " 'Wisr Secured Car Loan',\n",
       " 'Stratton Finance New Car Loan',\n",
       " 'IMB New Car Loan',\n",
       " 'RACV New Car Loans',\n",
       " 'NRMA New Car Loan',\n",
       " 'NAB Personal Loan Unsecured Fixed ',\n",
       " 'OurMoneyMarket Car Loan',\n",
       " 'SocietyOne Car Loan',\n",
       " 'NRMA Used Car Loan',\n",
       " 'Symple Loans Personal Loan',\n",
       " 'RACV Used Car Loans',\n",
       " 'Macquarie Car Loan (For ']"
      ]
     },
     "execution_count": 23,
     "metadata": {},
     "output_type": "execute_result"
    }
   ],
   "source": [
    "finance_name = finance_name[0:15]\n",
    "finance_name"
   ]
  },
  {
   "cell_type": "code",
   "execution_count": 24,
   "metadata": {},
   "outputs": [],
   "source": [
    "rates = soup.find_all('td', class_='comparison-table__feature')"
   ]
  },
  {
   "cell_type": "code",
   "execution_count": 25,
   "metadata": {},
   "outputs": [],
   "source": [
    "i_rate =[]\n",
    "for i in [1,10,19,28,37,46,55,64,73,82,91,100,109,118,127]:\n",
    "    div = rates[i].find('div').text.replace('\\n','').replace(' ','')\n",
    "    i_rate.append(div)"
   ]
  },
  {
   "cell_type": "code",
   "execution_count": 26,
   "metadata": {},
   "outputs": [
    {
     "data": {
      "text/plain": [
       "['5.44%',\n",
       " '5.22%',\n",
       " '4.41%',\n",
       " '4.75%',\n",
       " '4.05%',\n",
       " '5.34%',\n",
       " '5.69%',\n",
       " '5.69%',\n",
       " '7.91%',\n",
       " '5.65%',\n",
       " '5.95%',\n",
       " '6.94%',\n",
       " '6.47%',\n",
       " '6.19%',\n",
       " '8.47%']"
      ]
     },
     "execution_count": 26,
     "metadata": {},
     "output_type": "execute_result"
    }
   ],
   "source": [
    "i_rate"
   ]
  },
  {
   "cell_type": "code",
   "execution_count": null,
   "metadata": {},
   "outputs": [],
   "source": []
  },
  {
   "cell_type": "code",
   "execution_count": null,
   "metadata": {},
   "outputs": [],
   "source": []
  },
  {
   "cell_type": "code",
   "execution_count": null,
   "metadata": {},
   "outputs": [],
   "source": []
  }
 ],
 "metadata": {
  "kernelspec": {
   "display_name": "Python 3",
   "language": "python",
   "name": "python3"
  },
  "language_info": {
   "codemirror_mode": {
    "name": "ipython",
    "version": 3
   },
   "file_extension": ".py",
   "mimetype": "text/x-python",
   "name": "python",
   "nbconvert_exporter": "python",
   "pygments_lexer": "ipython3",
   "version": "3.8.5"
  }
 },
 "nbformat": 4,
 "nbformat_minor": 4
}
