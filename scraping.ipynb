{
 "cells": [
  {
   "cell_type": "code",
   "execution_count": 1,
   "metadata": {},
   "outputs": [],
   "source": [
    "from splinter import Browser\n",
    "from bs4 import BeautifulSoup\n",
    "from webdriver_manager.chrome import ChromeDriverManager\n",
    "import pandas as pd"
   ]
  },
  {
   "cell_type": "code",
   "execution_count": 2,
   "metadata": {},
   "outputs": [
    {
     "name": "stderr",
     "output_type": "stream",
     "text": [
      "\n",
      "\n",
      "====== WebDriver manager ======\n",
      "Current google-chrome version is 91.0.4472\n",
      "Get LATEST driver version for 91.0.4472\n",
      "Driver [C:\\Users\\bluec\\.wdm\\drivers\\chromedriver\\win32\\91.0.4472.19\\chromedriver.exe] found in cache\n"
     ]
    }
   ],
   "source": [
    "# Setup splinter\n",
    "executable_path = {'executable_path': ChromeDriverManager().install()}\n",
    "browser = Browser('chrome', **executable_path, headless=False)"
   ]
  },
  {
   "cell_type": "code",
   "execution_count": 3,
   "metadata": {},
   "outputs": [],
   "source": [
    "url = 'https://www.westsideauto.com.au/all-stock/list?q=condition:used'\n",
    "browser.visit(url)"
   ]
  },
  {
   "cell_type": "code",
   "execution_count": 4,
   "metadata": {},
   "outputs": [],
   "source": [
    "vehicle = []\n",
    "price = []\n",
    "weekly = []"
   ]
  },
  {
   "cell_type": "code",
   "execution_count": 5,
   "metadata": {},
   "outputs": [],
   "source": [
    "for x in range(1, 4):\n",
    "\n",
    "    html = browser.html\n",
    "    soup = BeautifulSoup(html, 'html.parser')\n",
    "\n",
    "    cars = soup.find_all('div', class_='vehicle-item')\n",
    "    \n",
    "    \n",
    "    for car in cars:\n",
    "        h3 = car.find('h3').text\n",
    "        vehicle.append(h3)\n",
    "        h2 = car.find('h2').text\n",
    "        price.append(h2)\n",
    "        span = car.find('span', class_='price-per-week-figure').text\n",
    "        weekly.append(span)\n",
    "        \n",
    "    next_page_url = 'https://www.westsideauto.com.au/all-stock/list/page-'+str(x+1)+'?q=condition%3Aused'\n",
    "\n",
    "    browser.links.find_by_href(next_page_url).click()"
   ]
  },
  {
   "cell_type": "code",
   "execution_count": 6,
   "metadata": {},
   "outputs": [
    {
     "data": {
      "text/plain": [
       "['$113',\n",
       " '$113',\n",
       " '$94',\n",
       " '$94',\n",
       " '$97',\n",
       " '$97',\n",
       " '$97',\n",
       " '$97',\n",
       " '$172',\n",
       " '$172',\n",
       " '$143',\n",
       " '$143',\n",
       " '$168',\n",
       " '$168',\n",
       " '$280',\n",
       " '$280',\n",
       " '$184',\n",
       " '$184',\n",
       " '$264',\n",
       " '$264',\n",
       " '$172',\n",
       " '$172',\n",
       " '$113',\n",
       " '$113',\n",
       " '$173',\n",
       " '$173',\n",
       " '$234',\n",
       " '$234',\n",
       " '$218',\n",
       " '$218',\n",
       " '$280',\n",
       " '$280',\n",
       " '$197',\n",
       " '$197',\n",
       " '$255',\n",
       " '$255',\n",
       " '$205',\n",
       " '$205',\n",
       " '$161',\n",
       " '$161',\n",
       " '$264',\n",
       " '$264',\n",
       " '$84',\n",
       " '$84',\n",
       " '$122',\n",
       " '$122',\n",
       " '$134',\n",
       " '$134',\n",
       " '$117',\n",
       " '$117',\n",
       " '$138',\n",
       " '$138',\n",
       " '$188',\n",
       " '$188',\n",
       " '$155',\n",
       " '$155',\n",
       " '$278',\n",
       " '$278',\n",
       " '$138',\n",
       " '$138',\n",
       " '$339',\n",
       " '$339',\n",
       " '$234',\n",
       " '$234',\n",
       " '$167',\n",
       " '$167',\n",
       " '$172',\n",
       " '$172',\n",
       " '$262',\n",
       " '$262',\n",
       " '$264',\n",
       " '$264',\n",
       " '$389',\n",
       " '$389',\n",
       " '$222',\n",
       " '$222',\n",
       " '$151',\n",
       " '$151',\n",
       " '$97',\n",
       " '$97',\n",
       " '$105',\n",
       " '$105',\n",
       " '$88',\n",
       " '$88',\n",
       " '$55',\n",
       " '$55',\n",
       " '$88',\n",
       " '$88',\n",
       " '$81',\n",
       " '$81',\n",
       " '$67',\n",
       " '$67',\n",
       " '$103',\n",
       " '$103',\n",
       " '$38',\n",
       " '$38',\n",
       " '$95',\n",
       " '$95',\n",
       " '$138',\n",
       " '$138',\n",
       " '$193',\n",
       " '$193',\n",
       " '$203',\n",
       " '$203',\n",
       " '$272',\n",
       " '$272',\n",
       " '$197',\n",
       " '$197']"
      ]
     },
     "execution_count": 6,
     "metadata": {},
     "output_type": "execute_result"
    }
   ],
   "source": [
    "weekly"
   ]
  },
  {
   "cell_type": "code",
   "execution_count": 7,
   "metadata": {},
   "outputs": [],
   "source": [
    "browser.quit()"
   ]
  },
  {
   "cell_type": "code",
   "execution_count": 8,
   "metadata": {},
   "outputs": [
    {
     "name": "stderr",
     "output_type": "stream",
     "text": [
      "\n",
      "\n",
      "====== WebDriver manager ======\n",
      "Current google-chrome version is 91.0.4472\n",
      "Get LATEST driver version for 91.0.4472\n",
      "Driver [C:\\Users\\bluec\\.wdm\\drivers\\chromedriver\\win32\\91.0.4472.19\\chromedriver.exe] found in cache\n"
     ]
    }
   ],
   "source": [
    "# Setup splinter\n",
    "executable_path = {'executable_path': ChromeDriverManager().install()}\n",
    "browser = Browser('chrome', **executable_path, headless=False)"
   ]
  },
  {
   "cell_type": "code",
   "execution_count": 9,
   "metadata": {},
   "outputs": [],
   "source": [
    "url_finder = 'https://www.finder.com.au/car-loans'\n",
    "browser.visit(url_finder)"
   ]
  },
  {
   "cell_type": "code",
   "execution_count": 10,
   "metadata": {},
   "outputs": [],
   "source": [
    "html = browser.html\n",
    "soup = BeautifulSoup(html, 'html.parser')"
   ]
  },
  {
   "cell_type": "code",
   "execution_count": 11,
   "metadata": {},
   "outputs": [],
   "source": [
    "institutions = soup.find_all('td',class_ =\"comparison-table__name\")"
   ]
  },
  {
   "cell_type": "code",
   "execution_count": 12,
   "metadata": {},
   "outputs": [],
   "source": [
    "finance_name =[]"
   ]
  },
  {
   "cell_type": "code",
   "execution_count": 13,
   "metadata": {},
   "outputs": [],
   "source": [
    "for ins in institutions:\n",
    "    a = ins.find('a').text\n",
    "    finance_name.append(a)"
   ]
  },
  {
   "cell_type": "code",
   "execution_count": 14,
   "metadata": {},
   "outputs": [
    {
     "data": {
      "text/plain": [
       "['Plenti Car Loan',\n",
       " 'Loans.com.au - New and Dealer Used Car Loan',\n",
       " 'Credit Concierge Car Loan',\n",
       " 'Wisr Secured Car Loan',\n",
       " 'Stratton Finance New Car Loan',\n",
       " 'IMB New Car Loan',\n",
       " 'RACV New Car Loans',\n",
       " 'NRMA New Car Loan',\n",
       " 'NAB Personal Loan Unsecured Fixed ',\n",
       " 'OurMoneyMarket Car Loan',\n",
       " 'SocietyOne Car Loan',\n",
       " 'NRMA Used Car Loan',\n",
       " 'Symple Loans Personal Loan',\n",
       " 'RACV Used Car Loans']"
      ]
     },
     "execution_count": 14,
     "metadata": {},
     "output_type": "execute_result"
    }
   ],
   "source": [
    "finance_name = finance_name[0:14]\n",
    "finance_name"
   ]
  },
  {
   "cell_type": "code",
   "execution_count": 76,
   "metadata": {},
   "outputs": [],
   "source": [
    "rates = soup.find_all('td', class_='comparison-table__feature')"
   ]
  },
  {
   "cell_type": "code",
   "execution_count": 77,
   "metadata": {
    "scrolled": true
   },
   "outputs": [],
   "source": [
    "i_rate =[]\n",
    "for rate in rates:\n",
    "    div = rate.find_all('div', attrs={\"data-heading\":\"Comparison Rate (p.a.)\"})\n",
    "    i_rate.append(div)"
   ]
  },
  {
   "cell_type": "code",
   "execution_count": 78,
   "metadata": {
    "scrolled": true
   },
   "outputs": [
    {
     "data": {
      "text/plain": [
       "[[],\n",
       " [<div class=\"comparison-table__cellWrapper js-calculator-table-value\" data-heading=\"Comparison Rate (p.a.)\">\n",
       "                5.44%<span class=\"table-popover\" data-content=\"Comparison rate based on a secured, 5 year, $30,000 loan for a new vehicle and a customer with an excellent credit history. This comparison rate is true only for the examples given and may not include all fees and charges. Different terms, fees or other loan amounts might result in a different comparison rate.\" data-original-title=\"Comparison Rate Calculation\" rel=\"popover\" title=\"\"></span></div>],\n",
       " [],\n",
       " [],\n",
       " [],\n",
       " [],\n",
       " [],\n",
       " [],\n",
       " [],\n",
       " [],\n",
       " [<div class=\"comparison-table__cellWrapper js-calculator-table-value\" data-heading=\"Comparison Rate (p.a.)\">\n",
       "                5.22%<span class=\"table-popover\" data-content=\"The comparison rate is based on a $30,000 loan over 5 years. This comparison rate applies only to the example or examples given. Different amounts and terms will result in different comparison rates. Costs such as redraw fees or early repayment fees, and cost savings such as fee waivers, are not included in the comparison rate but may influence the cost of the loan. These rates are for secured loans only.\" data-original-title=\"Comparison Rate Calculation\" rel=\"popover\" title=\"\"></span></div>],\n",
       " [],\n",
       " [],\n",
       " [],\n",
       " [],\n",
       " [],\n",
       " [],\n",
       " [],\n",
       " [],\n",
       " [<div class=\"comparison-table__cellWrapper js-calculator-table-value\" data-heading=\"Comparison Rate (p.a.)\">\n",
       "                4.41%<span class=\"table-popover\" data-content=\"The comparison rate shown is for a secured loan amount of $30,000 over a term of 5 years based on monthly repayments. Warning: This comparison rate is true only for the examples given and may not include all fees and charges. Different terms, fees or other loan amounts might result in a different comparison rate.\" data-original-title=\"Comparison Rate Calculation\" rel=\"popover\" title=\"\"></span></div>],\n",
       " [],\n",
       " [],\n",
       " [],\n",
       " [],\n",
       " [],\n",
       " [],\n",
       " [],\n",
       " [],\n",
       " [<div class=\"comparison-table__cellWrapper js-calculator-table-value\" data-heading=\"Comparison Rate (p.a.)\">\n",
       "                4.75%<span class=\"table-popover\" data-content=\"Comparison rate(s) based on $30,000 secured loan, fixed over 5 years, with monthly repayments.WARNING: This comparison rate applies only to the example or examples given. Different amounts and terms will result in different comparison rates. Costs such as redraw fees or early repayment fees, and cost savings such as fee waivers, are not included in the comparison rate but may influence the cost of the loan\" data-original-title=\"Comparison Rate Calculation\" rel=\"popover\" title=\"\"></span></div>],\n",
       " [],\n",
       " [],\n",
       " [],\n",
       " [],\n",
       " [],\n",
       " [],\n",
       " [],\n",
       " [],\n",
       " [<div class=\"comparison-table__cellWrapper js-calculator-table-value\" data-heading=\"Comparison Rate (p.a.)\">\n",
       "                4.05%<span class=\"table-popover\" data-content=\"Comparison rate is calculated on a loan amount of $30,000 secured over a term of 5 years based on monthly repayments. WARNING: This comparison rate applies only to examples given. Different amounts and terms will result in different comparison rates. Costs such as redraw or early repayment fees and cost savings such as fee waivers are not included in the comparison rate, but may influence the cost of the loan.\" data-original-title=\"Comparison Rate Calculation\" rel=\"popover\" title=\"\"></span></div>],\n",
       " [],\n",
       " [],\n",
       " [],\n",
       " [],\n",
       " [],\n",
       " [],\n",
       " [],\n",
       " [],\n",
       " [<div class=\"comparison-table__cellWrapper js-calculator-table-value\" data-heading=\"Comparison Rate (p.a.)\">\n",
       "                5.34%<span class=\"table-popover\" data-content=\"This comparison rate is based on a secured loan amount of $30,000 and a term of 5 years. WARNING: This comparison rate applies only to the example or examples given. Different amounts and terms will result in different comparison rates. Costs such as redraw fees or early repayment fees, and cost savings such as fee waivers, are not included in the comparison rate but may influence the cost of the loan.\" data-original-title=\"Comparison Rate Calculation\" rel=\"popover\" title=\"\"></span></div>],\n",
       " [],\n",
       " [],\n",
       " [],\n",
       " [],\n",
       " [],\n",
       " [],\n",
       " [],\n",
       " [],\n",
       " [<div class=\"comparison-table__cellWrapper js-calculator-table-value\" data-heading=\"Comparison Rate (p.a.)\">\n",
       "                5.69%<span class=\"table-popover\" data-content=\"Comparison rate calculated on a loan amount of $30,000 secured over a term of 5 years based on monthly repayments. WARNING: This comparison rate applies only to examples given. Different amounts and terms will result in different comparison rates. Costs such as redraw or early repayment fees and cost savings such as fee waivers are not included in the comparison rate, but may influence the cost of the loan.\" data-original-title=\"Comparison Rate Calculation\" rel=\"popover\" title=\"\"></span></div>],\n",
       " [],\n",
       " [],\n",
       " [],\n",
       " [],\n",
       " [],\n",
       " [],\n",
       " [],\n",
       " [],\n",
       " [<div class=\"comparison-table__cellWrapper js-calculator-table-value\" data-heading=\"Comparison Rate (p.a.)\">\n",
       "                5.69%<span class=\"table-popover\" data-content=\"Comparison rate calculated on a loan amount of $30,000 secured over a term of 5 years based on monthly repayments. Warning: This comparison rate applies only to examples given. Different amounts and terms will result in different comparison rates. Costs such as redraw or early repayment fees and cost savings such as fee waivers are not included in the comparison rate, but may influence the cost of the loan. Subject to RACV lending criteria. Australian credit licence 391488.\" data-original-title=\"Comparison Rate Calculation\" rel=\"popover\" title=\"\"></span></div>],\n",
       " [],\n",
       " [],\n",
       " [],\n",
       " [],\n",
       " [],\n",
       " [],\n",
       " [],\n",
       " [],\n",
       " [<div class=\"comparison-table__cellWrapper js-calculator-table-value\" data-heading=\"Comparison Rate (p.a.)\">\n",
       "                7.91%<span class=\"table-popover\" data-content=\"In relation to each comparison rate shown for this NAB loan, comparison rate is calculated on an unsecured loan amount of $30,000 over a term of 5 years based on monthly repayments. WARNING: This comparison rate applies only to the example or examples given. Different amounts and terms will result in different comparison rates. Costs such as redraw fees or early repayment fees, and cost savings such as fee waivers, are not included in the comparison rate but may influence the cost of the loan.\" data-original-title=\"Comparison Rate Calculation\" rel=\"popover\" title=\"\"></span></div>],\n",
       " [],\n",
       " [],\n",
       " [],\n",
       " [],\n",
       " [],\n",
       " [],\n",
       " [],\n",
       " [],\n",
       " [<div class=\"comparison-table__cellWrapper js-calculator-table-value\" data-heading=\"Comparison Rate (p.a.)\">\n",
       "                5.65%<span class=\"table-popover\" data-content=\"Comparison rate(s) based on $30,000 secured loan, fixed over 5 years, with monthly repayments. WARNING: This comparison rate applies only to the example or examples given. Different amounts and terms will result in different comparison rates. Costs such as redraw fees or early repayment fees, and cost savings such as fee waivers, are not included in the comparison rate but may influence the cost of the loan\" data-original-title=\"Comparison Rate Calculation\" rel=\"popover\" title=\"\"></span></div>],\n",
       " [],\n",
       " [],\n",
       " [],\n",
       " [],\n",
       " [],\n",
       " [],\n",
       " [],\n",
       " [],\n",
       " [<div class=\"comparison-table__cellWrapper js-calculator-table-value\" data-heading=\"Comparison Rate (p.a.)\">\n",
       "                5.95%<span class=\"table-popover\" data-content=\"This comparison rate is based on an AA-rated borrower with a $10,000 Unsecured Personal Loan for a three year term. &lt;br /&gt;WARNING: This Comparison Rate applies only to the example or examples given. Different amounts and terms will result in different Comparison Rates. Costs such as early repayment fees, and cost savings such as fee waivers, are not included in the Comparison Rate, but may influence the cost of the loan.\" data-original-title=\"Comparison Rate Calculation\" rel=\"popover\" title=\"\"></span></div>],\n",
       " [],\n",
       " [],\n",
       " [],\n",
       " [],\n",
       " [],\n",
       " [],\n",
       " [],\n",
       " [],\n",
       " [<div class=\"comparison-table__cellWrapper js-calculator-table-value\" data-heading=\"Comparison Rate (p.a.)\">\n",
       "                6.94%<span class=\"table-popover\" data-content=\"Comparison rate calculated on a loan amount of $30,000 secured over a term of 5 years based on monthly repayments. Warning: This comparison rate applies only to examples given. Different amounts and terms will result in different comparison rates. Costs such as redraw or early repayment fees and cost savings such as fee waivers are not included in the comparison rate, but may influence the cost of the loan. Subject to RACV lending criteria. Australian credit licence 391488.\" data-original-title=\"Comparison Rate Calculation\" rel=\"popover\" title=\"\"></span></div>],\n",
       " [],\n",
       " [],\n",
       " [],\n",
       " [],\n",
       " [],\n",
       " [],\n",
       " [],\n",
       " [],\n",
       " [<div class=\"comparison-table__cellWrapper js-calculator-table-value\" data-heading=\"Comparison Rate (p.a.)\">\n",
       "                6.47%<span class=\"table-popover\" data-content=\"This comparison rate is based on a $30,000 unsecured personal loan for a 5-year term. Warning: The comparison rate is true only for the example given and may not include all fees and charges. Different loan terms, fees or loan amounts might result in a different comparison rate.\" data-original-title=\"Comparison Rate Calculation\" rel=\"popover\" title=\"\"></span></div>],\n",
       " [],\n",
       " [],\n",
       " [],\n",
       " [],\n",
       " [],\n",
       " [],\n",
       " [],\n",
       " [],\n",
       " [<div class=\"comparison-table__cellWrapper js-calculator-table-value\" data-heading=\"Comparison Rate (p.a.)\">\n",
       "                6.19%<span class=\"table-popover\" data-content=\"Comparison rate calculated on a loan amount of $30,000 secured over a term of 5 years based on monthly repayments. WARNING: This comparison rate applies only to examples given. Different amounts and terms will result in different comparison rates. Costs such as redraw or early repayment fees and cost savings such as fee waivers are not included in the comparison rate, but may influence the cost of the loan.\" data-original-title=\"Comparison Rate Calculation\" rel=\"popover\" title=\"\"></span></div>],\n",
       " [],\n",
       " [],\n",
       " [],\n",
       " [],\n",
       " [],\n",
       " [],\n",
       " [],\n",
       " [],\n",
       " [<div class=\"comparison-table__cellWrapper js-calculator-table-value\" data-heading=\"Comparison Rate (p.a.)\">\n",
       "                8.47%<span class=\"table-popover\" data-content=\"Comparison rate is based on finance amount $30,000 on a secured Consumer Loan for a 60 month term. WARNING: This comparison rate is true only for the examples given and may not include all fees and charges. Different terms, fees or other loan amounts might result in a different comparison rate.\" data-original-title=\"Comparison Rate Calculation\" rel=\"popover\" title=\"\"></span></div>],\n",
       " [],\n",
       " [],\n",
       " [],\n",
       " [],\n",
       " [],\n",
       " [],\n",
       " [],\n",
       " [],\n",
       " [<div class=\"comparison-table__cellWrapper js-calculator-table-value\" data-heading=\"Comparison Rate (p.a.)\">\n",
       "                8.72%<span class=\"table-popover\" data-content=\"Comparison rate is based on finance amount $30,000 on a secured Consumer Loan for a 60 month term. WARNING: This comparison rate is true only for the examples given and may not include all fees and charges. Different terms, fees or other loan amounts might result in a different comparison rate.\" data-original-title=\"Comparison Rate Calculation\" rel=\"popover\" title=\"\"></span></div>],\n",
       " [],\n",
       " [],\n",
       " [],\n",
       " [],\n",
       " [],\n",
       " [],\n",
       " []]"
      ]
     },
     "execution_count": 78,
     "metadata": {},
     "output_type": "execute_result"
    }
   ],
   "source": [
    "i_rate"
   ]
  }
 ],
 "metadata": {
  "kernelspec": {
   "display_name": "Python 3",
   "language": "python",
   "name": "python3"
  },
  "language_info": {
   "codemirror_mode": {
    "name": "ipython",
    "version": 3
   },
   "file_extension": ".py",
   "mimetype": "text/x-python",
   "name": "python",
   "nbconvert_exporter": "python",
   "pygments_lexer": "ipython3",
   "version": "3.8.5"
  }
 },
 "nbformat": 4,
 "nbformat_minor": 4
}
