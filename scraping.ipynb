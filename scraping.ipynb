{
 "cells": [
  {
   "cell_type": "code",
   "execution_count": 1,
   "metadata": {},
   "outputs": [],
   "source": [
    "from splinter import Browser\n",
    "from bs4 import BeautifulSoup\n",
    "from webdriver_manager.chrome import ChromeDriverManager\n",
    "import pandas as pd"
   ]
  },
  {
   "cell_type": "code",
   "execution_count": 2,
   "metadata": {},
   "outputs": [
    {
     "name": "stderr",
     "output_type": "stream",
     "text": [
      "\n",
      "\n",
      "====== WebDriver manager ======\n",
      "Current google-chrome version is 91.0.4472\n",
      "Get LATEST driver version for 91.0.4472\n",
      "Driver [C:\\Users\\John\\.wdm\\drivers\\chromedriver\\win32\\91.0.4472.19\\chromedriver.exe] found in cache\n"
     ]
    }
   ],
   "source": [
    "# Setup splinter\n",
    "executable_path = {'executable_path': ChromeDriverManager().install()}\n",
    "browser = Browser('chrome', **executable_path, headless=False)"
   ]
  },
  {
   "cell_type": "code",
   "execution_count": 3,
   "metadata": {},
   "outputs": [],
   "source": [
    "url = 'https://www.westsideauto.com.au/all-stock/list?q=condition:used'\n",
    "browser.visit(url)"
   ]
  },
  {
   "cell_type": "code",
   "execution_count": 4,
   "metadata": {},
   "outputs": [],
   "source": [
    "vehicle = []\n",
    "price = []\n",
    "weekly = []"
   ]
  },
  {
   "cell_type": "code",
   "execution_count": 5,
   "metadata": {},
   "outputs": [],
   "source": [
    "for x in range(1, 4):\n",
    "\n",
    "    html = browser.html\n",
    "    soup = BeautifulSoup(html, 'html.parser')\n",
    "\n",
    "    cars = soup.find_all('div', class_='vehicle-item')\n",
    "    \n",
    "    \n",
    "    for car in cars:\n",
    "        h3 = car.find('h3').text\n",
    "        vehicle.append(h3)\n",
    "        h2 = car.find('h2').text\n",
    "        price.append(h2)\n",
    "        span = car.find('span', class_='price-per-week-figure').text\n",
    "        weekly.append(span)\n",
    "        \n",
    "    next_page_url = 'https://www.westsideauto.com.au/all-stock/list/page-'+str(x+1)+'?q=condition%3Aused'\n",
    "\n",
    "    browser.links.find_by_href(next_page_url).click()"
   ]
  },
  {
   "cell_type": "code",
   "execution_count": 6,
   "metadata": {},
   "outputs": [
    {
     "data": {
      "text/plain": [
       "['$155',\n",
       " '$155',\n",
       " '$130',\n",
       " '$130',\n",
       " '$97',\n",
       " '$97',\n",
       " '$113',\n",
       " '$113',\n",
       " '$97',\n",
       " '$97',\n",
       " '$97',\n",
       " '$97',\n",
       " '$143',\n",
       " '$143',\n",
       " '$168',\n",
       " '$168',\n",
       " '$280',\n",
       " '$280',\n",
       " '$188',\n",
       " '$188',\n",
       " '$264',\n",
       " '$264',\n",
       " '$222',\n",
       " '$222',\n",
       " '$113',\n",
       " '$113',\n",
       " '$172',\n",
       " '$172',\n",
       " '$201',\n",
       " '$201',\n",
       " '$173',\n",
       " '$173',\n",
       " '$234',\n",
       " '$234',\n",
       " '$222',\n",
       " '$222',\n",
       " '$234',\n",
       " '$234',\n",
       " '$280',\n",
       " '$280',\n",
       " '$255',\n",
       " '$255',\n",
       " '$205',\n",
       " '$205',\n",
       " '$161',\n",
       " '$161',\n",
       " '$264',\n",
       " '$264',\n",
       " '$84',\n",
       " '$84',\n",
       " '$122',\n",
       " '$122',\n",
       " '$134',\n",
       " '$134',\n",
       " '$117',\n",
       " '$117',\n",
       " '$138',\n",
       " '$138',\n",
       " '$188',\n",
       " '$188',\n",
       " '$155',\n",
       " '$155',\n",
       " '$280',\n",
       " '$280',\n",
       " '$138',\n",
       " '$138',\n",
       " '$343',\n",
       " '$343',\n",
       " '$234',\n",
       " '$234',\n",
       " '$264',\n",
       " '$264',\n",
       " '$167',\n",
       " '$167',\n",
       " '$172',\n",
       " '$172',\n",
       " '$264',\n",
       " '$264',\n",
       " '$274',\n",
       " '$274',\n",
       " '$389',\n",
       " '$389',\n",
       " '$222',\n",
       " '$222',\n",
       " '$151',\n",
       " '$151',\n",
       " '$105',\n",
       " '$105',\n",
       " '$97',\n",
       " '$97',\n",
       " '$88',\n",
       " '$88',\n",
       " '$55',\n",
       " '$55',\n",
       " '$88',\n",
       " '$88',\n",
       " '$81',\n",
       " '$81',\n",
       " '$67',\n",
       " '$67',\n",
       " '$80',\n",
       " '$80',\n",
       " '$108',\n",
       " '$108',\n",
       " '$38',\n",
       " '$38',\n",
       " '$193',\n",
       " '$193']"
      ]
     },
     "execution_count": 6,
     "metadata": {},
     "output_type": "execute_result"
    }
   ],
   "source": [
    "weekly"
   ]
  },
  {
   "cell_type": "code",
   "execution_count": 8,
   "metadata": {},
   "outputs": [],
   "source": [
    "browser.quit()"
   ]
  },
  {
   "cell_type": "code",
   "execution_count": 9,
   "metadata": {},
   "outputs": [
    {
     "name": "stderr",
     "output_type": "stream",
     "text": [
      "\n",
      "\n",
      "====== WebDriver manager ======\n",
      "Current google-chrome version is 91.0.4472\n",
      "Get LATEST driver version for 91.0.4472\n",
      "Driver [C:\\Users\\John\\.wdm\\drivers\\chromedriver\\win32\\91.0.4472.19\\chromedriver.exe] found in cache\n"
     ]
    }
   ],
   "source": [
    "# Setup splinter\n",
    "executable_path = {'executable_path': ChromeDriverManager().install()}\n",
    "browser = Browser('chrome', **executable_path, headless=False)"
   ]
  },
  {
   "cell_type": "code",
   "execution_count": 10,
   "metadata": {},
   "outputs": [],
   "source": [
    "url_finder = 'https://www.finder.com.au/car-loans'\n",
    "browser.visit(url_finder)"
   ]
  },
  {
   "cell_type": "code",
   "execution_count": 11,
   "metadata": {},
   "outputs": [],
   "source": [
    "html = browser.html\n",
    "soup = BeautifulSoup(html, 'html.parser')"
   ]
  },
  {
   "cell_type": "code",
   "execution_count": 17,
   "metadata": {},
   "outputs": [],
   "source": [
    "institutions = soup.find_all('td',class_ =\"comparison-table__name\")"
   ]
  },
  {
   "cell_type": "code",
   "execution_count": 19,
   "metadata": {},
   "outputs": [],
   "source": [
    "finance_name =[]"
   ]
  },
  {
   "cell_type": "code",
   "execution_count": 20,
   "metadata": {},
   "outputs": [],
   "source": [
    "for ins in institutions:\n",
    "    a = ins.find('a').text\n",
    "    finance_name.append(a)"
   ]
  },
  {
   "cell_type": "code",
   "execution_count": 25,
   "metadata": {},
   "outputs": [
    {
     "data": {
      "text/plain": [
       "['Plenti Car Loan',\n",
       " 'Loans.com.au - New and Dealer Used Car Loan',\n",
       " 'Credit Concierge Car Loan',\n",
       " 'Wisr Secured Car Loan',\n",
       " 'Stratton Finance New Car Loan',\n",
       " 'IMB New Car Loan',\n",
       " 'RACV New Car Loans',\n",
       " 'NRMA New Car Loan',\n",
       " 'NAB Personal Loan Unsecured Fixed ',\n",
       " 'OurMoneyMarket Car Loan',\n",
       " 'SocietyOne Car Loan',\n",
       " 'NRMA Used Car Loan',\n",
       " 'Symple Loans Personal Loan',\n",
       " 'RACV Used Car Loans']"
      ]
     },
     "execution_count": 25,
     "metadata": {},
     "output_type": "execute_result"
    }
   ],
   "source": [
    "finance_name = finance_name[0:14]\n",
    "finance_name"
   ]
  },
  {
   "cell_type": "code",
   "execution_count": 37,
   "metadata": {},
   "outputs": [],
   "source": [
    "rates = soup.find_all('td', class_='comparison-table__feature')"
   ]
  },
  {
   "cell_type": "code",
   "execution_count": 52,
   "metadata": {},
   "outputs": [],
   "source": [
    "# i_rate =[]\n",
    "for rate in rates[0:14]:\n",
    "     div = rate.find('div').text.split('$')"
   ]
  },
  {
   "cell_type": "code",
   "execution_count": 55,
   "metadata": {},
   "outputs": [
    {
     "data": {
      "text/plain": [
       "['\\n              ', '400\\n          ']"
      ]
     },
     "execution_count": 55,
     "metadata": {},
     "output_type": "execute_result"
    }
   ],
   "source": [
    "div"
   ]
  },
  {
   "cell_type": "code",
   "execution_count": null,
   "metadata": {},
   "outputs": [],
   "source": []
  }
 ],
 "metadata": {
  "kernelspec": {
   "display_name": "Python 3",
   "language": "python",
   "name": "python3"
  },
  "language_info": {
   "codemirror_mode": {
    "name": "ipython",
    "version": 3
   },
   "file_extension": ".py",
   "mimetype": "text/x-python",
   "name": "python",
   "nbconvert_exporter": "python",
   "pygments_lexer": "ipython3",
   "version": "3.8.5"
  }
 },
 "nbformat": 4,
 "nbformat_minor": 4
}
